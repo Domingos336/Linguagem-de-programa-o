{
  "nbformat": 4,
  "nbformat_minor": 0,
  "metadata": {
    "colab": {
      "provenance": [],
      "history_visible": true,
      "authorship_tag": "ABX9TyNYzjxrN15x++zA3nG5azJ4",
      "include_colab_link": true
    },
    "kernelspec": {
      "name": "python3",
      "display_name": "Python 3"
    },
    "language_info": {
      "name": "python"
    }
  },
  "cells": [
    {
      "cell_type": "markdown",
      "metadata": {
        "id": "view-in-github",
        "colab_type": "text"
      },
      "source": [
        "<a href=\"https://colab.research.google.com/github/Domingos336/Linguagem-de-programa-o/blob/main/Livros_na_Biblioteca.ipynb\" target=\"_parent\"><img src=\"https://colab.research.google.com/assets/colab-badge.svg\" alt=\"Open In Colab\"/></a>"
      ]
    },
    {
      "cell_type": "code",
      "execution_count": null,
      "metadata": {
        "id": "jqCOCO7fyu5v"
      },
      "outputs": [],
      "source": [
        "import matplotlib. pyplot as plt\n",
        "\n",
        "#Classes para representar um livro\n",
        "class Livro:\n",
        "    def __init__(self, titulo, autor, ano_publicacao):\n",
        "        self.titulo = titulo\n",
        "        self.autor = autor\n",
        "        self.ano_publicacao = ano_publicacao\n",
        "\n",
        "    def __str__(self):\n",
        "        return f\"{self.titulo} por {self.autor}, Publicado em ({self.ano_publicacao})\""
      ]
    },
    {
      "cell_type": "code",
      "source": [
        "#Criar uma lista de livros\n",
        "biblioteca = []\n",
        "\n",
        "#Lista pat=ra armazenar anos de publicação\n",
        "anos = []\n",
        "\n",
        "#Função para adionar um livro à biblioteca\n",
        "def adiocionar_livro(titulo, autor, ano_publicacao):\n",
        "    novo_livro = Livro(titulo, autor, ano_publicacao)\n",
        "    biblioteca.append(novo_livro)\n",
        "    anos.append(ano_publicacao)  #Adiociona o ano à lista anos\n",
        "    print(f\"O livro '{titulo}' foi adiocionado à biblioteca.\")\n",
        "\n",
        "#Função para listar todos os livros na biblioteca\n",
        "def listar_livros():\n",
        "  print(\"Livros na Biblioteca:\")\n",
        "  for livro in biblioteca:\n",
        "       print(livro)\n",
        "\n",
        "# Adiocionar alguns Livros à biblioteca\n",
        "adiocionar_livro(\"Dom Quioxote\", \"Miguel de Cervantes\", 1605)\n",
        "adiocionar_livro(\"O Pequeno Príncipe\", \"Antoine de Saint-Exupéry\", 1943)\n",
        "adiocionar_livro(\"1984\", \"George Orwell\", 1949)\n",
        "adiocionar_livro(\"O Senhor dos Anéis\", \"J.R.R. Tolkien\", 1954)\n",
        "adiocionar_livro(\"Harry Potter e a Pedra Filosofal\", \"J.K. Rowling\", 1997)\n",
        "adiocionar_livro(\"Orgulho e Preconceito\", \"Jane Austen\", 1813)\n",
        "adiocionar_livro(\"A Revolução dos Bichos\", \"George Orwell\", 1945)\n",
        "adiocionar_livro(\"Apanhador no Campo de Centeio\", \"J>D. Saliger\", 1951)"
      ],
      "metadata": {
        "id": "MnLzvs6P2001",
        "colab": {
          "base_uri": "https://localhost:8080/"
        },
        "outputId": "0e96e65d-facb-441f-907d-bb73aaabf7cb"
      },
      "execution_count": 8,
      "outputs": [
        {
          "output_type": "stream",
          "name": "stdout",
          "text": [
            "O livro 'Dom Quioxote' foi adiocionado à biblioteca.\n",
            "O livro 'O Pequeno Príncipe' foi adiocionado à biblioteca.\n",
            "O livro '1984' foi adiocionado à biblioteca.\n",
            "O livro 'O Senhor dos Anéis' foi adiocionado à biblioteca.\n",
            "O livro 'Harry Potter e a Pedra Filosofal' foi adiocionado à biblioteca.\n",
            "O livro 'Orgulho e Preconceito' foi adiocionado à biblioteca.\n",
            "O livro 'A Revolução dos Bichos' foi adiocionado à biblioteca.\n",
            "O livro 'Apanhador no Campo de Centeio' foi adiocionado à biblioteca.\n"
          ]
        }
      ]
    }
  ]
}