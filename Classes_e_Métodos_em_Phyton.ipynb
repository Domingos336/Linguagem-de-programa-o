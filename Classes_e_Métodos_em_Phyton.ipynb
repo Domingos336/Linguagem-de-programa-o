{
  "nbformat": 4,
  "nbformat_minor": 0,
  "metadata": {
    "colab": {
      "provenance": [],
      "authorship_tag": "ABX9TyOx4flpjwU+yLDgynq2vfGd",
      "include_colab_link": true
    },
    "kernelspec": {
      "name": "python3",
      "display_name": "Python 3"
    },
    "language_info": {
      "name": "python"
    }
  },
  "cells": [
    {
      "cell_type": "markdown",
      "metadata": {
        "id": "view-in-github",
        "colab_type": "text"
      },
      "source": [
        "<a href=\"https://colab.research.google.com/github/Domingos336/Linguagem-de-programa-o/blob/main/Classes_e_M%C3%A9todos_em_Phyton.ipynb\" target=\"_parent\"><img src=\"https://colab.research.google.com/assets/colab-badge.svg\" alt=\"Open In Colab\"/></a>"
      ]
    },
    {
      "cell_type": "code",
      "execution_count": 6,
      "metadata": {
        "colab": {
          "base_uri": "https://localhost:8080/"
        },
        "id": "jalVyxXbfqp-",
        "outputId": "019f0b78-1db4-496c-fedc-bc8974b69673"
      },
      "outputs": [
        {
          "output_type": "stream",
          "name": "stdout",
          "text": [
            "Olá meu nome é João.\n",
            "Idade: 30\n",
            "Nova idade: 31\n"
          ]
        }
      ],
      "source": [
        "# Define uma classe chamada Pessoa.\n",
        "class Pessoa:\n",
        "    # O método __init__ é um construtor, chamado quando um objeto da classe é criado.\n",
        "    #Ele inicializa os atributos da classe.\n",
        "    def __init__(self, nome, idade, genero):\n",
        "      # self é uma convenção em Phyton que se refere à própria instância da classe.\n",
        "      # Os parâmetros nome, idade e genero são passados durante a criação do objeto.\n",
        "      # Eles são usados para inicilizar os atributos da instância\n",
        "      self.nome = nome # Atribui o valor de nome ao atributo nome da instância.\n",
        "      self.idade = idade # Atribui o valor de idade ao atributo idade da instância.\n",
        "      self.genero = genero # Atribui o valor genero ao atributo genero da instância.\n",
        "\n",
        "    # O método cumprimentar retorna uma saudação com o nome da pessoa.\n",
        "    def cumprimentar(self):\n",
        "      return f\"Olá meu nome é {self.nome}.\"\n",
        "\n",
        "    # O método aniversario aumenta a idade da pessoa em 1.\n",
        "    def aniversario(self):\n",
        "      self.idade += 1\n",
        "\n",
        "# Cria uma instância da classe \"Pessoa\" com os valores \"João\", 30 e \"Masculino\" para nome, idade e genero, respectivamente.\n",
        "pessoa1 = Pessoa(\"João\", 30, \"Masculino\")\n",
        "#Chama o método \"cumprimentar\" na instância pessoa1 e imprime a saudação.\n",
        "print(pessoa1.cumprimentar()) #Saída: \"Olá, meu nome é João\"\n",
        "#Acessa o atributo idade da instância pessoa1 e imprime sua idade.\n",
        "print(f\"Idade: {pessoa1.idade}\") #Saída: \"Idade: 30\"\n",
        "#Chama o método \"aniversario\" na instância pessoa1 para aumentar sua idade em 1.\n",
        "pessoa1.aniversario()\n",
        "#Acessa o atributo idade atualizado da instância pessoa1 e imprime a nova idade.\n",
        "print(f\"Nova idade: {pessoa1.idade}\") #Saída: \"Nova idade:31\""
      ]
    },
    {
      "cell_type": "code",
      "source": [
        "class Animal:\n",
        "  def __init__(self, nome):\n",
        "    self.nome = nome\n",
        "    def fazer_barulho(self):\n",
        "        pass\n",
        "class Cachorro(Animal):\n",
        "  def fazer_barulho(self):\n",
        "    return \"Latir\"\n",
        "class Gato(Animal):\n",
        "  def fazer_barulho(self):\n",
        "    return \"Miar\"\n",
        "class Vaca(Animal):\n",
        "  def fazer_barulho(self):\n",
        "    return \"Muuuu\""
      ],
      "metadata": {
        "id": "aL28Y2WSyoQm"
      },
      "execution_count": 13,
      "outputs": []
    },
    {
      "cell_type": "code",
      "source": [
        "Bradock = Cachorro(\"Bradock\")\n",
        "Scott = Gato(\"Scott\")\n",
        "Mansinha = Vaca(\"Mansinha\")"
      ],
      "metadata": {
        "id": "p3S23ZtczhOr"
      },
      "execution_count": 14,
      "outputs": []
    },
    {
      "cell_type": "code",
      "source": [
        "print(f\"{Bradock.nome} faz: {Bradock.fazer_barulho()}\")\n"
      ],
      "metadata": {
        "colab": {
          "base_uri": "https://localhost:8080/"
        },
        "id": "gbIg_YSDzwQE",
        "outputId": "ff644ed0-5fc5-4942-ad17-a0852cca4442"
      },
      "execution_count": 16,
      "outputs": [
        {
          "output_type": "stream",
          "name": "stdout",
          "text": [
            "Bradock faz: Latir\n"
          ]
        }
      ]
    },
    {
      "cell_type": "code",
      "source": [
        "print(f\"{Mansinha.nome} faz: {Mansinha.fazer_barulho()}\")"
      ],
      "metadata": {
        "colab": {
          "base_uri": "https://localhost:8080/"
        },
        "id": "E3UkI2jD0uYU",
        "outputId": "ed6011cb-021d-4674-cd25-26bdb2ec7e35"
      },
      "execution_count": 17,
      "outputs": [
        {
          "output_type": "stream",
          "name": "stdout",
          "text": [
            "Mansinha faz: Muuuu\n"
          ]
        }
      ]
    },
    {
      "cell_type": "code",
      "source": [
        "print(f\"{Scott.nome} faz: {Scott.fazer_barulho()}\")"
      ],
      "metadata": {
        "colab": {
          "base_uri": "https://localhost:8080/"
        },
        "id": "UGzjb0d_z_pP",
        "outputId": "0d2ead97-2553-4c0b-d67c-5ad0cb6707a4"
      },
      "execution_count": 18,
      "outputs": [
        {
          "output_type": "stream",
          "name": "stdout",
          "text": [
            "Scott faz: Miar\n"
          ]
        }
      ]
    }
  ]
}