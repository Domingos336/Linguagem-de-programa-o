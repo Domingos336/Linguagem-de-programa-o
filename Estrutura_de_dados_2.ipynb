{
  "nbformat": 4,
  "nbformat_minor": 0,
  "metadata": {
    "colab": {
      "provenance": [],
      "authorship_tag": "ABX9TyN+tT0D+tOj6E4Svzb6ttqd",
      "include_colab_link": true
    },
    "kernelspec": {
      "name": "python3",
      "display_name": "Python 3"
    },
    "language_info": {
      "name": "python"
    }
  },
  "cells": [
    {
      "cell_type": "markdown",
      "metadata": {
        "id": "view-in-github",
        "colab_type": "text"
      },
      "source": [
        "<a href=\"https://colab.research.google.com/github/Domingos336/Linguagem-de-programa-o/blob/main/Estrutura_de_dados_2.ipynb\" target=\"_parent\"><img src=\"https://colab.research.google.com/assets/colab-badge.svg\" alt=\"Open In Colab\"/></a>"
      ]
    },
    {
      "cell_type": "code",
      "execution_count": 1,
      "metadata": {
        "id": "HXQhb6dhGqse"
      },
      "outputs": [],
      "source": [
        "## add(), in e remove()\n",
        "\n",
        "#Criando um conjunto vazio\n",
        "meu_conjunto = set()"
      ]
    },
    {
      "cell_type": "code",
      "source": [
        "meu_conjunto"
      ],
      "metadata": {
        "colab": {
          "base_uri": "https://localhost:8080/"
        },
        "id": "wxNEhs3agG2G",
        "outputId": "a03f1629-6bed-46cc-ddb4-5235eef721d6"
      },
      "execution_count": 2,
      "outputs": [
        {
          "output_type": "execute_result",
          "data": {
            "text/plain": [
              "set()"
            ]
          },
          "metadata": {},
          "execution_count": 2
        }
      ]
    },
    {
      "cell_type": "code",
      "source": [
        "#Adicionando elementos ao conjunto\n",
        "meu_conjunto.add(10)\n",
        "meu_conjunto.add(20)\n",
        "meu_conjunto.add(30)\n",
        "meu_conjunto.add(50)\n",
        "\n",
        "#Imprimindo o conjunto\n",
        "print(\"Conjunto após adicionar elementos:\", meu_conjunto)"
      ],
      "metadata": {
        "colab": {
          "base_uri": "https://localhost:8080/"
        },
        "id": "aiFmF9dHgAdR",
        "outputId": "2cb45402-e588-4f3a-f3b2-38c7adb8b6d6"
      },
      "execution_count": 13,
      "outputs": [
        {
          "output_type": "stream",
          "name": "stdout",
          "text": [
            "Conjunto após adicionar elementos: {10, 20, 50, 30}\n"
          ]
        }
      ]
    },
    {
      "cell_type": "code",
      "source": [
        "#Verificando se um elemento está no conjunto\n",
        "elemento = 50\n",
        "if elemento in meu_conjunto:\n",
        "    print(f\"{elemento} está no conjunto.\")\n",
        "else:\n",
        "    print(f\"{elemento} não está no conjunto.\")\n",
        "#Removendo elementos do conjunto\n",
        "meu_conjunto.remove(50)\n",
        "#Imprimindo o conjunto atualizado\n",
        "print(\"Conjunto após remover elemento 50:\", meu_conjunto)"
      ],
      "metadata": {
        "colab": {
          "base_uri": "https://localhost:8080/"
        },
        "id": "Il6WZqVogRQo",
        "outputId": "6c42c085-321f-4bf3-9de4-d735aaafecf1"
      },
      "execution_count": 14,
      "outputs": [
        {
          "output_type": "stream",
          "name": "stdout",
          "text": [
            "50 está no conjunto.\n",
            "Conjunto após remover elemento 50: {10, 20, 30}\n"
          ]
        }
      ]
    },
    {
      "cell_type": "code",
      "source": [
        "#Ecemplo 1 - Criação de um dicionário vazio, seguido de atribuição de chaves e valores\n",
        "dici_1 = {}\n",
        "dici_1['nome'] =\"Maria\"\n",
        "dici_1['idade'] = 25"
      ],
      "metadata": {
        "id": "M2vOvKGkg3Rs"
      },
      "execution_count": 16,
      "outputs": []
    },
    {
      "cell_type": "code",
      "source": [
        "dici_1"
      ],
      "metadata": {
        "colab": {
          "base_uri": "https://localhost:8080/"
        },
        "id": "RvalLnv-krOu",
        "outputId": "619972d1-54e0-4bf9-fdbd-49ed21af1877"
      },
      "execution_count": 17,
      "outputs": [
        {
          "output_type": "execute_result",
          "data": {
            "text/plain": [
              "{'nome': 'Maria', 'idade': 25}"
            ]
          },
          "metadata": {},
          "execution_count": 17
        }
      ]
    },
    {
      "cell_type": "code",
      "source": [
        "#Exemplos 2 - Criação de um dicionário com pares chave: valor\n",
        "dici_2 = {'nome': 'Maria', 'idade': 25}\n",
        "#Exemplo 3 - Criação de um dicionário com uma list de tuplas representando pares chave: valor\n",
        "dici_3 = dict([('nome', \"Maria\"), ('idade', 25)])\n",
        "#Exemplos 4 - Criação de um dicionário usando função built-in zip() e duas listas, uma para as chaves e outra para os valores.\n",
        "dici_4 = dict(zip(['nome', 'idade'], [\"Maria\", 25]))\n",
        "#Teste se todas as construções resultam em objetos iguais]\n",
        "print(dici_1 == dici_2 == dici_3 == dici_4) #Deve imprimir True\n",
        "print(dici_1)"
      ],
      "metadata": {
        "colab": {
          "base_uri": "https://localhost:8080/"
        },
        "id": "8ENjBVpHkpbA",
        "outputId": "c0942a29-d79f-441f-c86f-bc05263055e5"
      },
      "execution_count": 20,
      "outputs": [
        {
          "output_type": "stream",
          "name": "stdout",
          "text": [
            "True\n",
            "{'nome': 'Maria', 'idade': 25}\n"
          ]
        }
      ]
    },
    {
      "cell_type": "code",
      "source": [
        "#Importe a biblioteca Numpy\n",
        "import numpy as np\n",
        "#Crie um array NumPy de números inteiros\n",
        "my_array = np.array([1, 2, 3, 4, 5])\n",
        "#Imprima o array\n",
        "print(\"Array original:\")\n",
        "print(my_array)"
      ],
      "metadata": {
        "colab": {
          "base_uri": "https://localhost:8080/"
        },
        "id": "CKpTl4yAky8U",
        "outputId": "5e391f24-3c7d-4cb6-b8c9-ed131a7fae0a"
      },
      "execution_count": 21,
      "outputs": [
        {
          "output_type": "stream",
          "name": "stdout",
          "text": [
            "Array original:\n",
            "[1 2 3 4 5]\n"
          ]
        }
      ]
    },
    {
      "cell_type": "code",
      "source": [
        "#Realize operações matemáticas com array\n",
        "squared_array = my_array ** 2 #Eleva cada elemento ao quadrado\n",
        "sum_of_elements = np.sum(my_array) #Calcula a soma de todos os elementos\n",
        "#Imprima os resultados\n",
        "print(\"\\nArray ao quadrado:\")\n",
        "print(squared_array)\n",
        "print(\"\\nSoma dos elementos:\")\n",
        "print(sum_of_elements)\n",
        "#Acesse elementos do array\n",
        "element_at_index_2 = my_array[2] #Acessa o elemento no índice 2\n",
        "print(\"\\nElemento no índice 2:\", element_at_index_2)"
      ],
      "metadata": {
        "colab": {
          "base_uri": "https://localhost:8080/"
        },
        "id": "4b9O1Bs8oP2r",
        "outputId": "c28476ef-f7a1-4f17-b551-11e5829faa60"
      },
      "execution_count": 22,
      "outputs": [
        {
          "output_type": "stream",
          "name": "stdout",
          "text": [
            "\n",
            "Array ao quadrado:\n",
            "[ 1  4  9 16 25]\n",
            "\n",
            "Soma dos elementos:\n",
            "15\n",
            "\n",
            "Elemento no índice 2: 3\n"
          ]
        }
      ]
    },
    {
      "cell_type": "code",
      "source": [
        "# Importe as bibliotecas necessárias\n",
        "import numpy as np\n",
        "#Dados dos participantes\n",
        "participantes = [\n",
        "    {\n",
        "        \"nome\": \"Alice\",\n",
        "        \"localização\": \"EUA\", # Added a comma here\n",
        "        \"afiliacao\": \"Universidade A\",\n",
        "        \"interesses\": [\"Física\", \"Astronomia\"]\n",
        "    },\n",
        "    {\n",
        "        \"nome\": \"Bob\",\n",
        "        \"localização\": \"Brasil\", # Added a comma here\n",
        "        \"afiliacao\": \"Instituto B\",\n",
        "        \"interesses\": [\"Biologia\", \"Astronomia\"]\n",
        "    },\n",
        "    {\n",
        "        \"nome\": \"Charlie\",\n",
        "        \"localização\": \"Índia\",\n",
        "        \"afiliacao\": \"Instituto C\",\n",
        "        \"interesses\": [\"Química\", \"Engenharia\"] # Corrected syntax here\n",
        "    }\n",
        "    #Adicione mais participantes conforme necessário\n",
        "]\n",
        "#Usando sets para identificar diferentes regiões dos participantes\n",
        "regioes = set(participante[\"localização\"] for participante in participantes) # Corrected list comprehension\n",
        "#Usando um dicionário para categorizar afiliações\n",
        "afiliacoes = {}\n",
        "for participante in participantes: # Corrected variable name\n",
        "    afiliacao = participante[\"afiliacao\"]\n",
        "    if afiliacao not in afiliacoes:\n",
        "        afiliacoes[afiliacao] = []\n",
        "    afiliacoes[afiliacao].append(participante[\"nome\"])\n",
        "#Usando NumPy para analisar áreas de interesse\n",
        "areas_de_interesse = np.array([interesse for participante in participantes for interesse in participante[\"interesses\"]]) # Corrected list comprehension\n",
        "interesses_unicos, contagem = np.unique(areas_de_interesse, return_counts=True)\n",
        "area_mais_popular = interesses_unicos[np.argmax(contagem)]\n",
        "#Resultados\n",
        "print(\"Regiões dos participantes:\", regioes)\n",
        "print(\"Afiliações dos participantes:\")\n",
        "for afiliacao, nomes in afiliacoes.items():\n",
        "    print(f\"{afiliacao}: {', '.join(nomes)}\")\n",
        "print(\"Área de interesse mais popular:\", area_mais_popular)"
      ],
      "metadata": {
        "colab": {
          "base_uri": "https://localhost:8080/"
        },
        "id": "UZbsUHi_odrK",
        "outputId": "a7e92bdd-47d0-48b1-e7fe-54175183c422"
      },
      "execution_count": 26,
      "outputs": [
        {
          "output_type": "stream",
          "name": "stdout",
          "text": [
            "Regiões dos participantes: {'Brasil', 'Índia', 'EUA'}\n",
            "Afiliações dos participantes:\n",
            "Universidade A: Alice\n",
            "Instituto B: Bob\n",
            "Instituto C: Charlie\n",
            "Área de interesse mais popular: Astronomia\n"
          ]
        }
      ]
    },
    {
      "cell_type": "code",
      "source": [],
      "metadata": {
        "id": "3pY08c3DtfDT"
      },
      "execution_count": null,
      "outputs": []
    }
  ]
}