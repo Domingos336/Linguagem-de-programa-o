{
  "nbformat": 4,
  "nbformat_minor": 0,
  "metadata": {
    "colab": {
      "provenance": [],
      "authorship_tag": "ABX9TyMVM3C9DAn/vA7Gw9MiE34K",
      "include_colab_link": true
    },
    "kernelspec": {
      "name": "python3",
      "display_name": "Python 3"
    },
    "language_info": {
      "name": "python"
    }
  },
  "cells": [
    {
      "cell_type": "markdown",
      "metadata": {
        "id": "view-in-github",
        "colab_type": "text"
      },
      "source": [
        "<a href=\"https://colab.research.google.com/github/Domingos336/Linguagem-de-programa-o/blob/main/Aplica%C3%A7ao_de_Banco_de_Dados_com_Phyton_Aula1.ipynb\" target=\"_parent\"><img src=\"https://colab.research.google.com/assets/colab-badge.svg\" alt=\"Open In Colab\"/></a>"
      ]
    },
    {
      "cell_type": "code",
      "execution_count": 2,
      "metadata": {
        "id": "IQPx6FLEcGZe"
      },
      "outputs": [],
      "source": [
        "import sqlite3\n",
        "\n",
        "# 1.Conectar ao banco de dados (ou criar um novo)\n",
        "#Usando a função connect do módulo sqlite3 para se conectar a um banco de dados SQLite\n",
        "#chamado 'exemplo.db'. Se o banco de dados não existir, ele será criado automaticamente.\n",
        "conn = sqlite3.connect('exemplo.db')\n",
        "\n",
        "# 2. Criar um objeto cursor\n",
        "#O cursor é usado para executar comandos SQL no banco de dados.\n",
        "#Ele atua como uma espécie de ponteiro que percorre os resultados de consultas.\n",
        "cursor = conn.cursor()\n",
        "\n",
        "# 3. Definir o comando SQL para criar a tabela\n",
        "#define uma String create_table que contém um comando SQL oara criar uma tabela chamada \"Podutos\".\n",
        "#Esta tabela terá quatro colunas: id (chave primária), nome (texto), preço (número real) e estoque (número inteiro).\n",
        "# O IF NOT EXISTS garente que a tabela só será criada se ainda não existir\n",
        "create_table = \"\"\"\n",
        "CREATE TABLE IF NOT EXISTS Produtos (\n",
        "    id INTEGER PRIMARY KEY,\n",
        "    nome TEXT NOT NULL,\n",
        "    preco REAL NOT NULL,\n",
        "    estoque INTEGER\n",
        ");\n",
        "\"\"\"\n",
        "#Usa o método execute do objeto cursor para executar o comando SQL definido anteriormente e criar a tabela no banco de dados.\n",
        "# 4. Executar o comando SQL para criar a tabela\n",
        "cursor.execute(create_table)\n",
        "\n",
        "\n",
        "# 5. Confirmar as alterações (commit)\n",
        "#Após a execução bem-sucedida do comando SQL, usa o método commit no objeto de conexão (conn) para confirmar as alterações no banco de dados.\n",
        "#Isso garante que as alterações sejam efetivamente aplicadas\n",
        "conn.commit()\n",
        "\n",
        "\n",
        "#6. Fechar a conexão com o banco de dados\n",
        "#Finalmente, você usa o método close no objeto de conexão para encerrar a conexão com o banco de dados.\n",
        "#É uma prática recomendada fechar a conexão após a conclusão das operações, para liberar recursos e evitar possiveis problemas de concorrência.\n",
        "conn.close()"
      ]
    },
    {
      "cell_type": "code",
      "source": [
        "#adicionar produto\n",
        "import sqlite3\n",
        "#Conectando ao banco de dados\n",
        "conn = sqlite3.connect('exemplo.db')\n",
        "cursor = conn.cursor()\n",
        "#Dados do novo produto\n",
        "novo_produto = ('Camiseta', 99.99, 50)\n",
        "#Comando SQL para inserir o novo produto na tabela\n",
        "inserir_produto = \"INSERT INTO Produtos (nome, preco, estoque) VALUES (?, ?, ?)\"\n",
        "#Executando o comando SQL para inserir o novo produto\n",
        "cursor.execute(inserir_produto, novo_produto)\n",
        "#Confirmando as alterações no banco de dados\n",
        "conn.commit()\n",
        "#Fechando a conexão\n",
        "conn.close()"
      ],
      "metadata": {
        "id": "QSkjtRjpxC_X"
      },
      "execution_count": 26,
      "outputs": []
    },
    {
      "cell_type": "code",
      "source": [
        "#visualizar produto\n",
        "#Conectando ao banco de dados\n",
        "conn = sqlite3.connect('exemplo.db')\n",
        "cursor = conn.cursor()\n",
        "#Comando SQL para selecionar todos os produtos da tabela\n",
        "selecionar_produtos = \"SELECT * FROM Produtos\"\n",
        "#Executando o comando SQL para selecionar os produtos\n",
        "cursor.execute(selecionar_produtos)\n",
        "#Obtendo todos os registros e exibindo-os\n",
        "produtos = cursor.fetchall()\n",
        "for produto in produtos:\n",
        "    print(produto)\n",
        "#Fechando a conexão\n",
        "conn.close()\n",
        "print(\"Rodei o novo produto 6 vezes por isso mostra 6 opções\")"
      ],
      "metadata": {
        "colab": {
          "base_uri": "https://localhost:8080/"
        },
        "id": "xuXcRDz6ykzh",
        "outputId": "b9f83831-1ec1-4224-93a9-a3eacbdef22d"
      },
      "execution_count": 30,
      "outputs": [
        {
          "output_type": "stream",
          "name": "stdout",
          "text": [
            "(3, 'Camiseta', 19.99, 50)\n",
            "(4, 'Camiseta', 19.99, 50)\n",
            "(5, 'Camiseta', 19.99, 50)\n",
            "(6, 'Camiseta', 99.99, 50)\n",
            "(7, 'Camiseta', 99.99, 50)\n",
            "(8, 'Camiseta', 99.99, 50)\n",
            "Rodei o novo produto 6 vezes por isso mostra 6 opções\n"
          ]
        }
      ]
    },
    {
      "cell_type": "code",
      "source": [
        "#atualizar o produto\n",
        "import sqlite3\n",
        "#Conectando ao banco de dados\n",
        "conn = sqlite3.connect('exemplo.db')\n",
        "cursor = conn.cursor()\n",
        "#Novo preço e ID do produto a ser atualizado\n",
        "novo_preco = 249.90\n",
        "produto_id = 2  #Suponhamos que queremos atualizar o produto com ID 1\n",
        "#Comando SQL para atualizar o preço do produto\n",
        "atualizar_preco = \"UPDATE Produtos SET preco = ? WHERE id = ?\"\n",
        "#Executando o comando SQL para atualizar o preço do produto\n",
        "cursor.execute(atualizar_preco, (novo_preco, produto_id))\n",
        "#Confirmando as alterações no banco de dados\n",
        "conn.commit()\n",
        "#Fechando a conexão\n",
        "conn.close()\n"
      ],
      "metadata": {
        "id": "gXW46PWBz2vd"
      },
      "execution_count": 28,
      "outputs": []
    },
    {
      "cell_type": "code",
      "source": [
        "#Excluir produto\n",
        "import sqlite3\n",
        "#Conectando ao banco de dados\n",
        "conn = sqlite3.connect('exemplo.db')\n",
        "cursor = conn.cursor()\n",
        "#ID do produto a ser excluído\n",
        "produto_id = 2  #Suponhamos que queremos excluir o produto com ID 2\n",
        "#Comando SQL para excluir o produto\n",
        "excluir_produto = \"DELETE FROM Produtos WHERE id = ?\"\n",
        "#Executando o comando SQL para excluir o produto\n",
        "cursor.execute(excluir_produto, (produto_id,))\n",
        "#Confirmando as alterações no banco de dados\n",
        "conn.commit()\n",
        "#Fechando a conexão\n",
        "conn.close()"
      ],
      "metadata": {
        "id": "Wy-x2Bi306DI"
      },
      "execution_count": 29,
      "outputs": []
    },
    {
      "cell_type": "code",
      "source": [
        "import sqlite3\n",
        "#CREATE (Criação da tabela e inserção de dados de exemplo)\n",
        "conn = sqlite3.connect('contatos.db')\n",
        "cursor = conn.cursor()\n",
        "cursor.execute('''\n",
        "     CREATE TABLE IF NOT EXISTS Contatos(\n",
        "         id INTEGER PRIMARY KEY AUTOINCREMENT,\n",
        "         nome TEXT,\n",
        "         email TEXT,\n",
        "         telefone TEXT\n",
        "     )\n",
        "''')\n",
        "dados_exemplo = [\n",
        "    ('João', 'joao@email', '123-456-7890'),\n",
        "    ('Maria', 'maria@email', '987-654-3210'),\n",
        "    ('Carlos', 'carlos@email', '555-555-5555')\n",
        "]\n",
        "cursor.executemany('INSERT INTO Contatos (nome, email, telefone) VALUES (?, ?, ?)', dados_exemplo)\n",
        "conn.commit()\n",
        "\n",
        "#READ (Leitura e exibição dos contatos)\n",
        "cursor.execute('SELECT * FROM Contatos')\n",
        "contatos = cursor.fetchall()\n",
        "print(\"Contatos:\")\n",
        "for contato in contatos:\n",
        "    print(contato)\n",
        "# UPDATE (Atualização do número de telefone do contato com ID 2)\n",
        "\n",
        "novo_telefone = '999-999-9999'\n",
        "contato_id = 2\n",
        "cursor.execute('UPDATE Contatos SET telefone = ? WHERE id = ?', (novo_telefone, contato_id))\n",
        "conn.commit()\n",
        "\n",
        "# DELETE (Execlusão do contato com ID)\n",
        "contato_id_para_excluir = 1\n",
        "cursor.execute('DELETE FROM Contatos WHERE id = ?', (contato_id_para_excluir,))\n",
        "conn.commit()\n",
        "#Fechando a conexão\n",
        "conn.close()"
      ],
      "metadata": {
        "colab": {
          "base_uri": "https://localhost:8080/"
        },
        "id": "qgChge0BZEuu",
        "outputId": "0acf8df1-c70f-4bc2-87b9-0e5c7f6815bf"
      },
      "execution_count": 45,
      "outputs": [
        {
          "output_type": "stream",
          "name": "stdout",
          "text": [
            "Contatos:\n",
            "(11, 'Maria', 'maria@email', '987-654-3210')\n",
            "(12, 'Carlos', 'carlos@email', '555-555-5555')\n",
            "(13, 'João', 'joao@email', '123-456-7890')\n",
            "(14, 'Maria', 'maria@email', '987-654-3210')\n",
            "(15, 'Carlos', 'carlos@email', '555-555-5555')\n",
            "(16, 'João', 'joao@email', '123-456-7890')\n",
            "(17, 'Maria', 'maria@email', '987-654-3210')\n",
            "(18, 'Carlos', 'carlos@email', '555-555-5555')\n",
            "(19, 'João', 'joao@email', '123-456-7890')\n",
            "(20, 'Maria', 'maria@email', '987-654-3210')\n",
            "(21, 'Carlos', 'carlos@email', '555-555-5555')\n"
          ]
        }
      ]
    }
  ]
}