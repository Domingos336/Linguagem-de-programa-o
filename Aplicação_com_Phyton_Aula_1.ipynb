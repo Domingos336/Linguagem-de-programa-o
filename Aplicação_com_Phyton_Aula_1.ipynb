{
  "nbformat": 4,
  "nbformat_minor": 0,
  "metadata": {
    "colab": {
      "provenance": [],
      "authorship_tag": "ABX9TyPUQ9xqoEtEojtBsYjCvGNJ",
      "include_colab_link": true
    },
    "kernelspec": {
      "name": "python3",
      "display_name": "Python 3"
    },
    "language_info": {
      "name": "python"
    }
  },
  "cells": [
    {
      "cell_type": "markdown",
      "metadata": {
        "id": "view-in-github",
        "colab_type": "text"
      },
      "source": [
        "<a href=\"https://colab.research.google.com/github/Domingos336/Linguagem-de-programa-o/blob/main/Aplica%C3%A7%C3%A3o_com_Phyton_Aula_1.ipynb\" target=\"_parent\"><img src=\"https://colab.research.google.com/assets/colab-badge.svg\" alt=\"Open In Colab\"/></a>"
      ]
    },
    {
      "cell_type": "code",
      "execution_count": 4,
      "metadata": {
        "id": "C-Tc3-9Q5Mog"
      },
      "outputs": [],
      "source": [
        "# Criando uma página HTML usando Phyton\n",
        "html_code = \"\"\"\n",
        "<!DOCTYPE html>\n",
        "<html>\n",
        "<head>\n",
        "  <title>Exemplo de Front-end com Phyton</title>\n",
        "</head>\n",
        "<body>\n",
        "  <h'>Olá, Mundo!</h1>\n",
        "  <p>Esta é uma página web criada usando Phyton no Google Colab.</p>\n",
        "  </body>\n",
        "  </html>\n",
        "  \"\"\""
      ]
    },
    {
      "cell_type": "code",
      "source": [
        "from IPython.display import HTML\n",
        "HTML(html_code)"
      ],
      "metadata": {
        "colab": {
          "base_uri": "https://localhost:8080/",
          "height": 64
        },
        "id": "A9kxK6SCN59z",
        "outputId": "afc507f6-b3ab-4da7-ca6f-e72ed260e4db"
      },
      "execution_count": 5,
      "outputs": [
        {
          "output_type": "execute_result",
          "data": {
            "text/plain": [
              "<IPython.core.display.HTML object>"
            ],
            "text/html": [
              "\n",
              "<!DOCTYPE html>\n",
              "<html>\n",
              "<head>\n",
              "  <title>Exemplo de Front-end com Phyton</title>\n",
              "</head>\n",
              "<body>\n",
              "  <h'>Olá, Mundo!</h1>\n",
              "  <p>Esta é uma página web criada usando Phyton no Google Colab.</p>\n",
              "  </body>\n",
              "  </html>\n",
              "  "
            ]
          },
          "metadata": {},
          "execution_count": 5
        }
      ]
    },
    {
      "cell_type": "code",
      "source": [
        "from IPython.display import HTML\n",
        "html_code = \"\"\"\n",
        "<!DOCTYPE html>\n",
        "<html lang=\"en\">\n",
        "<head>\n",
        "    <!== Definindo a codificação e a viewport para dispositivos móveis -->\n",
        "    <meta charset=\"UTF-8\">\n",
        "    <meta name=\"viewport\" content=\"width=device-width, initial-scale=1.0\">\n",
        "    <title>Meu Perfil</title>\n",
        "</head>\n",
        "<body style=\"front-family: 'Arial Black', sans-serif; background-color: #f8f8f8; margin: 0; padding: 0;\">\n",
        "\n",
        "    <!-- Cabeçalho da Página -->\n",
        "    <header style=\"text-align: center; background-color: #3498db; color: #fff; padding: 20px;\">\n",
        "    <!-- Título principal -->\n",
        "    <h1 style=\"margin: 0;\">Domingos Cruz Nascimento Filho</h1>\n",
        "    <!-- Descrição -->\n",
        "    <p style=\"margin: Spx 0;\">Estudante de ADS</p>\n",
        "  </header>\n",
        "\n",
        "  <!-- Seção de Informações Pessoais -->\n",
        "  <section style=\"margin: 20px; text-align: center;>\n",
        "      <!-- Imagem com estilos -->\n",
        "      <img src=\"content/sua_foto.jpg\" alt=\"Sua Foto\" style=\"border-radius: 50%; margin-bottom: 20px;\">\n",
        "      <!-- Informações pessoais -->\n",
        "      <div id=\"informacoes pessoais\" style=\"max-width: 400px; margin: 0 auto;\">\n",
        "          <p>Cidade: Ibirité </p>\n",
        "          <p>País: Brasil</p>\n",
        "          <p> Interesses: Formar em ADS, Programação e me tornar um bom profissional.</p>\n",
        "      </div>\n",
        "    </section>\n",
        "\n",
        "    <!-- Seção de Habilidades -->\n",
        "    <section style=\"margin: 20px; text-align: center;\">\n",
        "       <!-- Título da seção -->\n",
        "       <h2>Habilidades</h2>\n",
        "       <!-- Lista de habilidades -->\n",
        "       <ul style=\"list-style: none; padding; 0;\">\n",
        "           <li> Linguagens: Aprendendo Python, HTML</li>\n",
        "           <li> Ferramentas: Git, Aprendendo VS Code</li>\n",
        "    </ul>\n",
        "  </section>\n",
        "\n",
        "  <!-- Seção de PRojeto Recente -->\n",
        "  <section style=\"margin: 20px; text-align: center;\">\n",
        "      <!-- Título do projeto recente -->\n",
        "      <h2>Projeto Recente</h2>\n",
        "      <!-- Descrição do projeto -->\n",
        "      <p> Trabalhando no crescimento Profissional, para apresentar meu trabalho.</p>\n",
        "  <section>\n",
        "\n",
        "  <!-- Rodapé da Página -->\n",
        "  <footer style=\"text-align: center; margin-top:20px\">\n",
        "      <!-- Link para o linkdIn -->\n",
        "      <a href=\"https://www.lindin.com/in/domingos-filho-015406363?utm_source=share&utm_campaign=share_via&utm_content=profile&utm_medium=android_app /\" target=\"_blank\" style=\"margin:: 0 10pc; color: #3498dp; text-decoration: none;\">LinkedIn</a>\n",
        "  </footer>\n",
        "</body>\n",
        "</html>\n",
        "\n",
        "\"\"\"\n",
        "#Exibindo a página HTML\n",
        "HTML(html_code)"
      ],
      "metadata": {
        "colab": {
          "base_uri": "https://localhost:8080/",
          "height": 436
        },
        "id": "V80ln83FPAdx",
        "outputId": "2442ee0f-2c98-45c6-fbad-06f23f0e1b0d"
      },
      "execution_count": 11,
      "outputs": [
        {
          "output_type": "execute_result",
          "data": {
            "text/plain": [
              "<IPython.core.display.HTML object>"
            ],
            "text/html": [
              "\n",
              "<!DOCTYPE html>\n",
              "<html lang=\"en\">\n",
              "<head>\n",
              "    <!== Definindo a codificação e a viewport para dispositivos móveis -->\n",
              "    <meta charset=\"UTF-8\">\n",
              "    <meta name=\"viewport\" content=\"width=device-width, initial-scale=1.0\">\n",
              "    <title>Meu Perfil</title>\n",
              "</head>\n",
              "<body style=\"front-family: 'Arial Black', sans-serif; background-color: #f8f8f8; margin: 0; padding: 0;\">\n",
              "\n",
              "    <!-- Cabeçalho da Página -->\n",
              "    <header style=\"text-align: center; background-color: #3498db; color: #fff; padding: 20px;\">\n",
              "    <!-- Título principal -->\n",
              "    <h1 style=\"margin: 0;\">Domingos Cruz Nascimento Filho</h1>\n",
              "    <!-- Descrição -->\n",
              "    <p style=\"margin: Spx 0;\">Estudante de ADS</p>\n",
              "  </header>\n",
              "\n",
              "  <!-- Seção de Informações Pessoais -->\n",
              "  <section style=\"margin: 20px; text-align: center;>\n",
              "      <!-- Imagem com estilos -->\n",
              "      <img src=\"content/sua_foto.jpg\" alt=\"Sua Foto\" style=\"border-radius: 50%; margin-bottom: 20px;\">\n",
              "      <!-- Informações pessoais -->\n",
              "      <div id=\"informacoes pessoais\" style=\"max-width: 400px; margin: 0 auto;\">\n",
              "          <p>Cidade: Ibirité </p>\n",
              "          <p>País: Brasil</p>\n",
              "          <p> Interesses: Formar em ADS, Programação e me tornar um bom profissional.</p>\n",
              "      </div>\n",
              "    </section>\n",
              "\n",
              "    <!-- Seção de Habilidades -->\n",
              "    <section style=\"margin: 20px; text-align: center;\">\n",
              "       <!-- Título da seção -->\n",
              "       <h2>Habilidades</h2>\n",
              "       <!-- Lista de habilidades -->\n",
              "       <ul style=\"list-style: none; padding; 0;\">\n",
              "           <li> Linguagens: Aprendendo Python, HTML</li>\n",
              "           <li> Ferramentas: Git, Aprendendo VS Code</li>\n",
              "    </ul>\n",
              "  </section>\n",
              "\n",
              "  <!-- Seção de PRojeto Recente -->\n",
              "  <section style=\"margin: 20px; text-align: center;\">\n",
              "      <!-- Título do projeto recente -->\n",
              "      <h2>Projeto Recente</h2>\n",
              "      <!-- Descrição do projeto -->\n",
              "      <p> Trabalhando no crescimento Profissional, para apresentar meu trabalho.</p>\n",
              "  <section>\n",
              "\n",
              "  <!-- Rodapé da Página -->\n",
              "  <footer style=\"text-align: center; margin-top:20px\">\n",
              "      <!-- Link para o linkdIn -->\n",
              "      <a href=\"https://www.lindin.com/in/domingos-filho-015406363?utm_source=share&utm_campaign=share_via&utm_content=profile&utm_medium=android_app /\" target=\"_blank\" style=\"margin:: 0 10pc; color: #3498dp; text-decoration: none;\">LinkedIn</a>\n",
              "  </footer>\n",
              "</body>\n",
              "</html>\n",
              "\n"
            ]
          },
          "metadata": {},
          "execution_count": 11
        }
      ]
    }
  ]
}