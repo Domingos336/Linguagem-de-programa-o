{
  "nbformat": 4,
  "nbformat_minor": 0,
  "metadata": {
    "colab": {
      "provenance": [],
      "authorship_tag": "ABX9TyPTKWq34V9KDT5E4Aa/S7eU",
      "include_colab_link": true
    },
    "kernelspec": {
      "name": "python3",
      "display_name": "Python 3"
    },
    "language_info": {
      "name": "python"
    }
  },
  "cells": [
    {
      "cell_type": "markdown",
      "metadata": {
        "id": "view-in-github",
        "colab_type": "text"
      },
      "source": [
        "<a href=\"https://colab.research.google.com/github/Domingos336/Linguagem-de-programa-o/blob/main/Treinando.ipynb\" target=\"_parent\"><img src=\"https://colab.research.google.com/assets/colab-badge.svg\" alt=\"Open In Colab\"/></a>"
      ]
    },
    {
      "cell_type": "code",
      "execution_count": null,
      "metadata": {
        "colab": {
          "base_uri": "https://localhost:8080/"
        },
        "id": "pBxNP0lhwrJg",
        "outputId": "3d94797f-ad9e-4a6d-da7d-ec00a7bb3de2"
      },
      "outputs": [
        {
          "output_type": "stream",
          "name": "stdout",
          "text": [
            "O comprimento da lista é: 21\n"
          ]
        }
      ],
      "source": [
        "# Cria uma lista de números\n",
        "numeros = [1, 2, 3, 4, 5, 6, 7,8,9,10,11,12,13,14,15,16,17,18,19, 'a',True]\n",
        "\n",
        "# Usa a função len() para calcular o comprimento da lista\n",
        "comprimento = len(numeros)\n",
        "\n",
        "# Imprime o comprimento da lista\n",
        "print(\"O comprimento da lista é:\", comprimento)"
      ]
    },
    {
      "cell_type": "code",
      "source": [
        "# Definindo uma função chamada \"soma\"\n",
        "def soma(a, b):\n",
        "  resultado = a + b\n",
        "  return resultado"
      ],
      "metadata": {
        "id": "IeIniS87yrBC"
      },
      "execution_count": 7,
      "outputs": []
    },
    {
      "cell_type": "code",
      "source": [
        "resultado_soma = soma(530, 90)\n",
        "\n",
        "# Imprimindo o resultado\n",
        "print(\"A soma de 530 e 90 é:\", resultado_soma)"
      ],
      "metadata": {
        "colab": {
          "base_uri": "https://localhost:8080/"
        },
        "id": "vKlppCumzuqW",
        "outputId": "d253f1bd-c289-4321-fc67-73a699b5e263"
      },
      "execution_count": 11,
      "outputs": [
        {
          "output_type": "stream",
          "name": "stdout",
          "text": [
            "A soma de 530 e 90 é: 620\n"
          ]
        }
      ]
    },
    {
      "cell_type": "code",
      "source": [
        "# Definindo  uma funçao chamada \"e_par\"\n",
        "def e_par(numero):\n",
        "  #operador módulo %\n",
        "  if numero % 2 == 0:\n",
        "    return True\n",
        "  else:\n",
        "    return False"
      ],
      "metadata": {
        "id": "sFWeZ6Xh0Ufu"
      },
      "execution_count": 13,
      "outputs": []
    },
    {
      "cell_type": "code",
      "source": [
        "numero = 112\n",
        "if e_par(numero):\n",
        "  print(f\"{numero} é um número par.\")\n",
        "else:\n",
        "  print(f\"{numero} não é um número par.\")"
      ],
      "metadata": {
        "colab": {
          "base_uri": "https://localhost:8080/"
        },
        "id": "S_bfHqzv07CW",
        "outputId": "2d3c847d-9e90-41ff-a7df-024777b9dbf6"
      },
      "execution_count": 15,
      "outputs": [
        {
          "output_type": "stream",
          "name": "stdout",
          "text": [
            "112 é um número par.\n"
          ]
        }
      ]
    },
    {
      "cell_type": "code",
      "source": [
        "soma = lambda a, b: a + b\n",
        "resultado = soma(55478, 11002)\n",
        "print(resultado)"
      ],
      "metadata": {
        "colab": {
          "base_uri": "https://localhost:8080/"
        },
        "id": "uhVmAc9T2Z9n",
        "outputId": "a96005f7-b7fe-4afc-f313-91b19cf20b9a"
      },
      "execution_count": 17,
      "outputs": [
        {
          "output_type": "stream",
          "name": "stdout",
          "text": [
            "66480\n"
          ]
        }
      ]
    },
    {
      "cell_type": "code",
      "source": [
        "# Lista de notas do Estudantes\n",
        "notas = [15.5, 15.0, 15.5, 15.0, 15.0]\n",
        "\n",
        "# Função regular para calcular a média\n",
        "def calcular_media(notas):\n",
        "  total = sum(notas)\n",
        "  media = total / len(notas)\n",
        "  return media\n",
        "\n",
        "# Função lambda para arrendondar a média para duas casas decimais\n",
        "arredondar_media = lambda media: round(media, 2)\n",
        "\n",
        "# Calcular a média\n",
        "media = calcular_media(notas)\n",
        "media_arredondada = arredondar_media(media)\n",
        "\n",
        "# Verificar se os estudantes foram aprovados ou reprovados\n",
        "situacao = \"Aprovado\" if media_arredondada >= 7 else \"Reprovado\"\n",
        "\n",
        "# Resultados\n",
        "print(\"Notas dos estudantes:\", notas)\n",
        "print(\"Média das notas:\", media_arredondada)\n",
        "print(\"Situação do estudante:\", situacao)\n"
      ],
      "metadata": {
        "colab": {
          "base_uri": "https://localhost:8080/"
        },
        "id": "Rf9PN8Yg3IV5",
        "outputId": "f84c7713-77e5-4643-dc70-eccc59a76e32"
      },
      "execution_count": 20,
      "outputs": [
        {
          "output_type": "stream",
          "name": "stdout",
          "text": [
            "Notas dos estudantes: [15.5, 15.0, 15.5, 15.0, 15.0]\n",
            "Média das notas: 15.2\n",
            "Situação do estudante: Aprovado\n"
          ]
        }
      ]
    }
  ]
}