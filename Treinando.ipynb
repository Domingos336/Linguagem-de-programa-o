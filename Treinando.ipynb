{
  "nbformat": 4,
  "nbformat_minor": 0,
  "metadata": {
    "colab": {
      "provenance": [],
      "authorship_tag": "ABX9TyOE5N46lkjrnJohOK2IDE3D",
      "include_colab_link": true
    },
    "kernelspec": {
      "name": "python3",
      "display_name": "Python 3"
    },
    "language_info": {
      "name": "python"
    }
  },
  "cells": [
    {
      "cell_type": "markdown",
      "metadata": {
        "id": "view-in-github",
        "colab_type": "text"
      },
      "source": [
        "<a href=\"https://colab.research.google.com/github/Domingos336/Linguagem-de-programa-o/blob/main/Treinando.ipynb\" target=\"_parent\"><img src=\"https://colab.research.google.com/assets/colab-badge.svg\" alt=\"Open In Colab\"/></a>"
      ]
    },
    {
      "cell_type": "code",
      "execution_count": null,
      "metadata": {
        "colab": {
          "base_uri": "https://localhost:8080/"
        },
        "id": "pBxNP0lhwrJg",
        "outputId": "b726eea1-c52f-4677-c003-ba7885261b7a"
      },
      "outputs": [
        {
          "output_type": "stream",
          "name": "stdout",
          "text": [
            "O comprimento da lista é: 13\n"
          ]
        }
      ],
      "source": [
        "# Cria uma lista de números\n",
        "numeros = [1, 2, 3, 4, 5, 6, 7,8,9,10,11,'a',True]\n",
        "\n",
        "# Usa a função len() para calcular o comprimento da lista\n",
        "comprimento = len(numeros)\n",
        "\n",
        "# Imprime o comprimento da lista\n",
        "print(\"O comprimento da lista é:\", comprimento)"
      ]
    },
    {
      "cell_type": "code",
      "source": [
        "# Definindo uma função chamada \"soma\"\n",
        "def soma(a, b):\n",
        "  resultado = a + b\n",
        "  return resultado"
      ],
      "metadata": {
        "id": "IeIniS87yrBC"
      },
      "execution_count": null,
      "outputs": []
    },
    {
      "cell_type": "code",
      "source": [
        "resultado_soma = soma(5, 90)\n",
        "\n",
        "# Imprimindo o resultado\n",
        "print(\"A soma de 5 e 90 é:\", resultado_soma)"
      ],
      "metadata": {
        "colab": {
          "base_uri": "https://localhost:8080/"
        },
        "id": "vKlppCumzuqW",
        "outputId": "e33a5db7-e8e9-47a7-fcd4-1b6d0763ecf7"
      },
      "execution_count": null,
      "outputs": [
        {
          "output_type": "stream",
          "name": "stdout",
          "text": [
            "A soma de 5 e 90 é: 95\n"
          ]
        }
      ]
    },
    {
      "cell_type": "code",
      "source": [
        "# Definindo  uma funçao chamada \"e_par\"\n",
        "def e_par(numero):\n",
        "  #operador módulo %\n",
        "  if numero % 2 == 0:\n",
        "    return True\n",
        "  else:\n",
        "    return False"
      ],
      "metadata": {
        "id": "sFWeZ6Xh0Ufu"
      },
      "execution_count": null,
      "outputs": []
    },
    {
      "cell_type": "code",
      "source": [
        "numero = 111\n",
        "if e_par(numero):\n",
        "  print(f\"{numero} é um número par.\")\n",
        "else:\n",
        "  print(f\"{numero} não é um número par.\")"
      ],
      "metadata": {
        "colab": {
          "base_uri": "https://localhost:8080/"
        },
        "id": "S_bfHqzv07CW",
        "outputId": "0f54d753-855f-4057-bd0f-2af46b8d6b54"
      },
      "execution_count": null,
      "outputs": [
        {
          "output_type": "stream",
          "name": "stdout",
          "text": [
            "111 não é um número par.\n"
          ]
        }
      ]
    },
    {
      "cell_type": "code",
      "source": [
        "soma = lambda a, b: a + b\n",
        "resultado = soma(358, 5547)\n",
        "print(resultado)"
      ],
      "metadata": {
        "colab": {
          "base_uri": "https://localhost:8080/"
        },
        "id": "uhVmAc9T2Z9n",
        "outputId": "e30c9f0b-cb3b-49ca-8d3b-b35d5eb19a4b"
      },
      "execution_count": null,
      "outputs": [
        {
          "output_type": "stream",
          "name": "stdout",
          "text": [
            "5905\n"
          ]
        }
      ]
    },
    {
      "cell_type": "code",
      "source": [
        "# Lista de notas do Estudantes\n",
        "notas = [7.5, 8.0, 1.5, 10.0, 9.0]\n",
        "\n",
        "# Função regular para calcular a média\n",
        "def calcular_media(notas):\n",
        "  total = sum(notas)\n",
        "  media = total / len(notas)\n",
        "  return media\n",
        "\n",
        "# Função lambda para arrendondar a média para duas casas decimais\n",
        "arredondar_media = lambda media: round(media, 2)\n",
        "\n",
        "# Calcular a média\n",
        "media = calcular_media(notas)\n",
        "media_arredondada = arredondar_media(media)\n",
        "\n",
        "# Verificar se os estudantes foram aprovados ou reprovados\n",
        "situacao = \"Aprovado\" if media_arredondada >= 7 else \"Reprovado\"\n",
        "\n",
        "# Resultados\n",
        "print(\"Notas dos estudantes:\", notas)\n",
        "print(\"Média das notas:\", media_arredondada)\n",
        "print(\"Situação do estudante:\", situacao)\n"
      ],
      "metadata": {
        "colab": {
          "base_uri": "https://localhost:8080/"
        },
        "id": "Rf9PN8Yg3IV5",
        "outputId": "3716e87a-50b8-46d6-f86d-fcf4fd90dfc7"
      },
      "execution_count": null,
      "outputs": [
        {
          "output_type": "stream",
          "name": "stdout",
          "text": [
            "Notas dos estudantes: [7.5, 8.0, 1.5, 10.0, 9.0]\n",
            "Média das notas: 7.2\n",
            "Situação do estudante: Aprovado\n"
          ]
        }
      ]
    }
  ]
}