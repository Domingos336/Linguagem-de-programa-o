{
  "nbformat": 4,
  "nbformat_minor": 0,
  "metadata": {
    "colab": {
      "provenance": [],
      "authorship_tag": "ABX9TyPhBPfuU41QlgPtnCCCckKD",
      "include_colab_link": true
    },
    "kernelspec": {
      "name": "python3",
      "display_name": "Python 3"
    },
    "language_info": {
      "name": "python"
    }
  },
  "cells": [
    {
      "cell_type": "markdown",
      "metadata": {
        "id": "view-in-github",
        "colab_type": "text"
      },
      "source": [
        "<a href=\"https://colab.research.google.com/github/Domingos336/Linguagem-de-programa-o/blob/main/Final_De_Introdu%C3%A7%C3%A3o_%C3%A0_An%C3%A1lise_de_dados_com_Phyton.ipynb\" target=\"_parent\"><img src=\"https://colab.research.google.com/assets/colab-badge.svg\" alt=\"Open In Colab\"/></a>"
      ]
    },
    {
      "cell_type": "code",
      "execution_count": 1,
      "metadata": {
        "id": "GAnRgiPLEHpQ"
      },
      "outputs": [],
      "source": [
        "import sqlite3\n",
        "#Passo 1: Conectar ao banco de dados SQLite (ou criá-lo se não existir)\n",
        "conn = sqlite3.connect(\"funcionarios.db\")"
      ]
    },
    {
      "cell_type": "code",
      "source": [
        "#Passo 2: Criar a tabela de funcionários\n",
        "cursor = conn.cursor()\n",
        "cursor.execute(\"\"\"\n",
        "    CREATE TABLE IF NOT EXISTS funcionarios (\n",
        "        id INTEGER PRIMARY KEY,\n",
        "        nome TEXT,\n",
        "        cargo TEXT,\n",
        "        salario REAL\n",
        "    )\n",
        "\"\"\")"
      ],
      "metadata": {
        "colab": {
          "base_uri": "https://localhost:8080/"
        },
        "id": "gUWL_ECXEt35",
        "outputId": "300fa4f3-be80-4bcc-cd9c-e36b3c193610"
      },
      "execution_count": 2,
      "outputs": [
        {
          "output_type": "execute_result",
          "data": {
            "text/plain": [
              "<sqlite3.Cursor at 0x7d65ae630ec0>"
            ]
          },
          "metadata": {},
          "execution_count": 2
        }
      ]
    },
    {
      "cell_type": "code",
      "source": [
        "# Passo 3: Inserir um novo funcionário na tabela\n",
        "novo_funcionario = (2, \"Maria\", \"Gerente\", 10000.0)\n",
        "cursor.execute(\"INSERT INTO funcionarios VALUES (?, ?, ?, ?)\", novo_funcionario)\n",
        "conn.commit()"
      ],
      "metadata": {
        "id": "E7kRuSC9FCJg"
      },
      "execution_count": 14,
      "outputs": []
    },
    {
      "cell_type": "code",
      "source": [
        "#Passo 4: Consultar e exibir funcionários\n",
        "cursor.execute(\"SELECT * FROM funcionarios\")\n",
        "funcionarios = cursor.fetchall()\n",
        "print(\"Funcionários Cadastrados\")\n",
        "for funcionario in funcionarios:\n",
        "    print(funcionario)"
      ],
      "metadata": {
        "colab": {
          "base_uri": "https://localhost:8080/"
        },
        "id": "Y8NMYg1hFU-D",
        "outputId": "20161e09-887b-488d-8a91-5f7266858f14"
      },
      "execution_count": 19,
      "outputs": [
        {
          "output_type": "stream",
          "name": "stdout",
          "text": [
            "Funcionários Cadastrados\n",
            "(2, 'Maria Silva', 'Gerente', 15000.0)\n"
          ]
        }
      ]
    },
    {
      "cell_type": "code",
      "source": [
        "#Passo 5: Atualizar informações de um funcionário\n",
        "atualizacao = (\"Maria Silva\", 15000.0, 2)\n",
        "cursor.execute(\"UPDATE funcionarios SET nome = ?, salario = ? WHERE id = ?\", atualizacao)\n",
        "conn.commit()"
      ],
      "metadata": {
        "id": "fhzXbLjDFw2X"
      },
      "execution_count": 16,
      "outputs": []
    },
    {
      "cell_type": "code",
      "source": [
        "#Passo 6: Deletar um funcionário\n",
        "id_funcionario_para_deletar = 1\n",
        "cursor.execute(\"DELETE FROM funcionarios WHERE id = ?\", (id_funcionario_para_deletar,))\n",
        "conn.commit()"
      ],
      "metadata": {
        "id": "AB8V6QxpH7lM"
      },
      "execution_count": 18,
      "outputs": []
    }
  ]
}