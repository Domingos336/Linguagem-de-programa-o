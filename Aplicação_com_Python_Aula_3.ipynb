{
  "nbformat": 4,
  "nbformat_minor": 0,
  "metadata": {
    "colab": {
      "provenance": [],
      "authorship_tag": "ABX9TyOZe4aqJAadSvSlfhiDEBhx",
      "include_colab_link": true
    },
    "kernelspec": {
      "name": "python3",
      "display_name": "Python 3"
    },
    "language_info": {
      "name": "python"
    }
  },
  "cells": [
    {
      "cell_type": "markdown",
      "metadata": {
        "id": "view-in-github",
        "colab_type": "text"
      },
      "source": [
        "<a href=\"https://colab.research.google.com/github/Domingos336/Linguagem-de-programa-o/blob/main/Aplica%C3%A7%C3%A3o_com_Python_Aula_3.ipynb\" target=\"_parent\"><img src=\"https://colab.research.google.com/assets/colab-badge.svg\" alt=\"Open In Colab\"/></a>"
      ]
    },
    {
      "cell_type": "code",
      "execution_count": null,
      "metadata": {
        "colab": {
          "base_uri": "https://localhost:8080/"
        },
        "id": "z7Saa-TltgpK",
        "outputId": "b29a7f79-4482-4fa7-98f3-baad3e349471"
      },
      "outputs": [
        {
          "output_type": "stream",
          "name": "stdout",
          "text": [
            "3.0\n"
          ]
        }
      ],
      "source": [
        "#Se dividir por 0 dará um erro caso contrario será apresentado um resultado\n",
        "def divide(x, y):\n",
        "    assert y !=0, \"Divisão por zero!\"\n",
        "    return x/ y\n",
        "\n",
        "result = divide(6, 2)\n",
        "print(result)"
      ]
    },
    {
      "cell_type": "code",
      "source": [
        "def calcular_media(notas):\n",
        "    assert len(notas) > 0, \"A lista de notas não pode estar vazia\"\n",
        "\n",
        "    soma = sum(notas)\n",
        "    media = soma / len(notas)\n",
        "    return media"
      ],
      "metadata": {
        "id": "WjTcM92rwn2-"
      },
      "execution_count": null,
      "outputs": []
    },
    {
      "cell_type": "code",
      "source": [
        "# Exemplo 1: Lista de notas vazia\n",
        "notas_vazias = []\n",
        "media = calcular_media(notas_vazias) #Isso lançará uma AssertionError"
      ],
      "metadata": {
        "id": "xcRiqr1hxlu_"
      },
      "execution_count": null,
      "outputs": []
    },
    {
      "cell_type": "code",
      "source": [
        "#Exemplo 2: Lista de notas válida\n",
        "notas_validas = [8, 7, 9, 6, 8]\n",
        "media = calcular_media(notas_validas) # Isso funcionará corretamente\n",
        "print(media)"
      ],
      "metadata": {
        "colab": {
          "base_uri": "https://localhost:8080/"
        },
        "id": "ho30faSgx2XG",
        "outputId": "8dfe6929-b462-4945-df42-1811924ea815"
      },
      "execution_count": null,
      "outputs": [
        {
          "output_type": "stream",
          "name": "stdout",
          "text": [
            "7.6\n"
          ]
        }
      ]
    },
    {
      "cell_type": "code",
      "source": [
        "import doctest\n",
        "def square(x):\n",
        "    \"\"\"\n",
        "    Retorna o quadrado de um número.\n",
        "\n",
        "    Exemplos:\n",
        "    >>> square(3)\n",
        "    9\n",
        "    >>> square(-2)\n",
        "    4\n",
        "    >>> square(0)\n",
        "    0\n",
        "    \"\"\"\n",
        "    return x * x\n",
        "doctest.testmod()\n",
        "\n",
        "\n",
        "#A função square é acompanhada por uma string de documentação que inclui exemplos de uso.\n",
        "#Esses exemplos estão formatados de maneira especial, usando o prompt >>>, que indica um bloco de código Python.\n",
        "\n",
        "#No caso do exemplo, doctest.testmod() executará a função square(3),\n",
        "#verificará se o resultado é igual a 9, executará square(-2) e verificará se o resultado é 4, e assim por diante\n",
        "\n",
        "#Se todos os testes passarem, doctest não produzirá nenhuma saída.\n",
        "#Se houver uma discrepância entre a sáida real e a esperada, doctest imprimirá uma mensagem indicando onde ocorre o problema.\n",
        "\n",
        "#A principal vantagem do doctest é que ele permite que você mantenha exemplos na documentação e, ao mesmo tempo, use esses exemplos como testes automatizados.\n",
        "#Isso ajuda a garantir que a documentação esteja sempre em sincronia com o código real"
      ],
      "metadata": {
        "id": "uuCm-88myVmX",
        "colab": {
          "base_uri": "https://localhost:8080/"
        },
        "outputId": "5be3ba1c-f49c-412b-e575-58a1da450a62"
      },
      "execution_count": 13,
      "outputs": [
        {
          "output_type": "execute_result",
          "data": {
            "text/plain": [
              "TestResults(failed=0, attempted=3)"
            ]
          },
          "metadata": {},
          "execution_count": 13
        }
      ]
    },
    {
      "cell_type": "code",
      "source": [
        "import unittest\n",
        "\n",
        "def add(a, b):\n",
        "    return a + b\n",
        "\n",
        "class TestAddition(unittest.TestCase):\n",
        "    def test_add_positive_numbers(self):\n",
        "        self.assertEqual(add(-2, -3), -5)\n",
        "\n",
        "    def test_add_negative_numbers(self):\n",
        "      self.assertEqual(add(-2, -3), -5)\n",
        "\n",
        "if __name__ == '__main__':\n",
        "    import unittest\n",
        "    unittest.main(argv=['first-arg-is-ignored'], exit=False)\n",
        "    print(\"Os testes foram executados com sucesso!\")\n",
        "\n",
        "#A função add simplismente soma dois números, cria uma classe que herda de unittest.TestCase.\n",
        "#Isso indica que essa classe contém testes unitários.\n",
        "#Dentro da classe de teste, você define métodos de teste.\n",
        "#Cada método de teste, deve começar com a palavra-chave test.\n",
        "#Dentro desses métodos, você usa assertivas (como self.assertEqual) para verificar se o comportamento esperado do código é atendido.\n",
        "#A condição if __name__ == '__main__': garante que a suíte de testes seja executada somente se o script for executado diretamente\n",
        "#Não se for importado como um módulo em outro script). unittest.main() executa todos os testes definidos na classe TestAdditon."
      ],
      "metadata": {
        "colab": {
          "base_uri": "https://localhost:8080/"
        },
        "id": "WXh2HpYH1zjP",
        "outputId": "373b1af5-8b02-4b5a-c9c5-e60126c4256b"
      },
      "execution_count": 16,
      "outputs": [
        {
          "output_type": "stream",
          "name": "stderr",
          "text": [
            "..\n",
            "----------------------------------------------------------------------\n",
            "Ran 2 tests in 0.003s\n",
            "\n",
            "OK\n"
          ]
        },
        {
          "output_type": "stream",
          "name": "stdout",
          "text": [
            "Os testes foram executados com sucesso!\n"
          ]
        }
      ]
    },
    {
      "cell_type": "code",
      "source": [
        "#assert\n",
        "def sum_numbers(numbers):\n",
        "    assert sum([1, 2, 3, 4]) == 10\n",
        "    assert sum([-1, 0, 1]) == 0\n",
        "    assert sum([]) == 0\n",
        "    return sum(numbers)\n",
        "teste = sum_numbers([1, 2, 3, 5])\n",
        "print(teste)"
      ],
      "metadata": {
        "colab": {
          "base_uri": "https://localhost:8080/"
        },
        "id": "1WixToQU4iIq",
        "outputId": "fcab57ac-324a-4581-921f-8a16ee911df3"
      },
      "execution_count": 17,
      "outputs": [
        {
          "output_type": "stream",
          "name": "stdout",
          "text": [
            "11\n"
          ]
        }
      ]
    },
    {
      "cell_type": "code",
      "source": [
        "\n",
        "#doctest\n",
        "def sum_numbers(numbers):\n",
        "    \"\"\"\n",
        "    Soma os números em uma lista.\n",
        "\n",
        "    Exemplos:\n",
        "    >>> sum_numbers([1, 2, 3, 4])\n",
        "    10\n",
        "    >>> sum_numbers([-1, 0, 1])\n",
        "    0\n",
        "    >>> sum_numbers([])\n",
        "    0\n",
        "    \"\"\"\n",
        "    return sum(numbers)\n",
        "\n",
        "if __name__ == \"__main__\":\n",
        "    import doctest\n",
        "    doctest.testmod()"
      ],
      "metadata": {
        "id": "_5EyGxOz5Llr"
      },
      "execution_count": 18,
      "outputs": []
    },
    {
      "cell_type": "code",
      "source": [
        "#unittest\n",
        "import unittest\n",
        "def sum_numbers(numbers):\n",
        "    return sum(numbers)\n",
        "\n",
        "class TestSumNumbers(unittest.TestCase):\n",
        "    def test_sum_positive_numbers(self):\n",
        "        self.assertEqual(sum_numbers([1, 2, 3, 4]), 10)\n",
        "\n",
        "    def test_sum_numbers_mixed(self):\n",
        "        self.assertEqual(sum_numbers([-1, 0, 1]), 0)\n",
        "\n",
        "    def test_sum_numbers_empty(self):\n",
        "        self.assertEqual(sum_numbers([]), 0)\n",
        "\n",
        "if __name__ == '__main__':\n",
        "    unittest.main(argv=['first-arg-is-ignored'], exit=False)"
      ],
      "metadata": {
        "colab": {
          "base_uri": "https://localhost:8080/"
        },
        "id": "VaGIMAiN6Y-O",
        "outputId": "86e02ef3-7bfd-495c-f028-6e904f46e87c"
      },
      "execution_count": 19,
      "outputs": [
        {
          "output_type": "stream",
          "name": "stderr",
          "text": [
            ".....\n",
            "----------------------------------------------------------------------\n",
            "Ran 5 tests in 0.004s\n",
            "\n",
            "OK\n"
          ]
        }
      ]
    }
  ]
}