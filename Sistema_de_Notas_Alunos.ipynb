{
  "nbformat": 4,
  "nbformat_minor": 0,
  "metadata": {
    "colab": {
      "provenance": [],
      "authorship_tag": "ABX9TyMBTSZDFurfMmgomZb76jCw",
      "include_colab_link": true
    },
    "kernelspec": {
      "name": "python3",
      "display_name": "Python 3"
    },
    "language_info": {
      "name": "python"
    }
  },
  "cells": [
    {
      "cell_type": "markdown",
      "metadata": {
        "id": "view-in-github",
        "colab_type": "text"
      },
      "source": [
        "<a href=\"https://colab.research.google.com/github/Domingos336/Linguagem-de-programa-o/blob/main/Sistema_de_Notas_Alunos.ipynb\" target=\"_parent\"><img src=\"https://colab.research.google.com/assets/colab-badge.svg\" alt=\"Open In Colab\"/></a>"
      ]
    },
    {
      "cell_type": "code",
      "execution_count": 3,
      "metadata": {
        "id": "Qsed-4qpeEFU",
        "colab": {
          "base_uri": "https://localhost:8080/"
        },
        "outputId": "5346442c-0ac2-48b4-e164-9fdc8cbfea4b"
      },
      "outputs": [
        {
          "output_type": "stream",
          "name": "stdout",
          "text": [
            "Notas dos estudantes: [15.5, 10.0, 5.5, 5.0, 5.0]\n",
            "Média das notas: 8.2\n",
            "Situação do estudante: Aprovado\n"
          ]
        }
      ],
      "source": [
        "# Lista de notas do Estudantes\n",
        "notas = [15.5, 10.0, 5.5, 5.0, 5.0]\n",
        "\n",
        "# Função regular para calcular a média\n",
        "def calcular_media(notas):\n",
        "  total = sum(notas)\n",
        "  media = total / len(notas)\n",
        "  return media\n",
        "\n",
        "# Função lambda para arrendondar a média para duas casas decimais\n",
        "arredondar_media = lambda media: round(media, 2)\n",
        "\n",
        "# Calcular a média\n",
        "media = calcular_media(notas)\n",
        "media_arredondada = arredondar_media(media)\n",
        "\n",
        "# Verificar se os estudantes foram aprovados ou reprovados\n",
        "situacao = \"Aprovado\" if media_arredondada >= 7 else \"Reprovado\"\n",
        "\n",
        "# Resultados\n",
        "print(\"Notas dos estudantes:\", notas)\n",
        "print(\"Média das notas:\", media_arredondada)\n",
        "print(\"Situação do estudante:\", situacao)\n"
      ]
    }
  ]
}