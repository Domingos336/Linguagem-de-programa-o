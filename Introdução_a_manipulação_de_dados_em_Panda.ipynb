{
  "nbformat": 4,
  "nbformat_minor": 0,
  "metadata": {
    "colab": {
      "provenance": [],
      "authorship_tag": "ABX9TyNEZfmHdtANlXmbpJRJ36br",
      "include_colab_link": true
    },
    "kernelspec": {
      "name": "python3",
      "display_name": "Python 3"
    },
    "language_info": {
      "name": "python"
    }
  },
  "cells": [
    {
      "cell_type": "markdown",
      "metadata": {
        "id": "view-in-github",
        "colab_type": "text"
      },
      "source": [
        "<a href=\"https://colab.research.google.com/github/Domingos336/Linguagem-de-programa-o/blob/main/Introdu%C3%A7%C3%A3o_a_manipula%C3%A7%C3%A3o_de_dados_em_Panda.ipynb\" target=\"_parent\"><img src=\"https://colab.research.google.com/assets/colab-badge.svg\" alt=\"Open In Colab\"/></a>"
      ]
    },
    {
      "cell_type": "code",
      "execution_count": 7,
      "metadata": {
        "id": "tTfCrgj3gmPn"
      },
      "outputs": [],
      "source": [
        "import pandas as pd\n",
        "df_selic = pd.read_jason(\"https://www.gov.br/pt-br/servicos/novo-servico-conecta=json\")\n",
        "\n",
        "print(df_selic.info())\n",
        "print(df_selic)"
      ]
    },
    {
      "cell_type": "code",
      "source": [
        "#Verificar duplicidade de linhas (passo muito importante), utilizando a função drop_duplicates()\n",
        "df_selic.drop_duplicates(keep='last', inplace=True)\n",
        "#mantem o último registro (keep='last')\n",
        "#atráves do parâmetro inplace=true, faz com que a transformação seja salva do DataFrame\n",
        "#no nosso caso nao existe linhas duplicatas"
      ],
      "metadata": {
        "id": "WyHqD4ME2xNz"
      },
      "execution_count": null,
      "outputs": []
    },
    {
      "cell_type": "code",
      "source": [
        "print(df_selic)"
      ],
      "metadata": {
        "id": "BfBT2p244A4l"
      },
      "execution_count": null,
      "outputs": []
    },
    {
      "cell_type": "code",
      "source": [
        "#adicionando colunas\n",
        "from datetime import date\n",
        "from datetime import datetima as dt\n",
        "\n",
        "data_extracao = date.today()\n",
        "\n",
        "df_selic['data_extracao'] = data_extracao\n",
        "df_selic['responsavel'] = \"Domingos\"\n",
        "\n",
        "print(df_selic.info())\n",
        "df_selic.head(10)"
      ],
      "metadata": {
        "id": "ShJUg_wd3VQ3"
      },
      "execution_count": null,
      "outputs": []
    },
    {
      "cell_type": "code",
      "source": [
        "df_selic.loc[0]"
      ],
      "metadata": {
        "id": "Wbma2gud4GB9"
      },
      "execution_count": null,
      "outputs": []
    },
    {
      "cell_type": "code",
      "source": [
        "df_selic.loc[[0,20,70]]"
      ],
      "metadata": {
        "id": "UF0rrdvE4SJG"
      },
      "execution_count": null,
      "outputs": []
    },
    {
      "cell_type": "code",
      "source": [
        "teste = df_selic['valor'] < 0.01\n",
        "print(type(teste))"
      ],
      "metadata": {
        "id": "l7ZeNSlO4h34"
      },
      "execution_count": null,
      "outputs": []
    },
    {
      "cell_type": "code",
      "source": [
        "print(teste)"
      ],
      "metadata": {
        "id": "bL-kPJ_Q4jWO"
      },
      "execution_count": null,
      "outputs": []
    },
    {
      "cell_type": "code",
      "source": [
        "import pandas as pd\n",
        "\n",
        "#Criando um DataFrame com 5 linhas de dados\n",
        "data = {\n",
        "    'nome': ['Produto A', 'Protudo B', 'Produto C', 'Produto A', 'Produto E'],\n",
        "    'quantidade de itens comprados': [3, 1, 4, 3, 2],\n",
        "    'tipo de item': ['Eletrônico', 'Vestuário', 'Alimento', 'Eletrônico', 'Alimento'],\n",
        "    'receita total': [120, 80, 60, 120, 90]\n",
        "}\n",
        "df = pd.DataFrame(data)\n",
        "\n",
        "print(df)"
      ],
      "metadata": {
        "colab": {
          "base_uri": "https://localhost:8080/"
        },
        "id": "N0K7pm5u4tts",
        "outputId": "69f53674-8a02-4160-9b87-43f396bc50a6"
      },
      "execution_count": 10,
      "outputs": [
        {
          "output_type": "stream",
          "name": "stdout",
          "text": [
            "        nome  quantidade de itens comprados tipo de item  receita total\n",
            "0  Produto A                              3   Eletrônico            120\n",
            "1  Protudo B                              1    Vestuário             80\n",
            "2  Produto C                              4     Alimento             60\n",
            "3  Produto A                              3   Eletrônico            120\n",
            "4  Produto E                              2     Alimento             90\n"
          ]
        }
      ]
    },
    {
      "cell_type": "code",
      "source": [
        "#Duplicando uma linha\n",
        "df['preço do item'] = df['receita total'] / df['quantidade de itens comprados']\n",
        "\n",
        "#Selecionando preço do item acima de 50 reais\n",
        "itens_acima_de_50 = df[df['preço do item'] > 50]\n",
        "\n",
        "print(\"Itens acima de 50 reais:\")\n",
        "print(itens_acima_de_50)"
      ],
      "metadata": {
        "colab": {
          "base_uri": "https://localhost:8080/"
        },
        "id": "5kgMOdLo6SsX",
        "outputId": "12992604-1c99-4563-845a-1dde79d396b4"
      },
      "execution_count": 13,
      "outputs": [
        {
          "output_type": "stream",
          "name": "stdout",
          "text": [
            "Itens acima de 50 reais:\n",
            "        nome  quantidade de itens comprados tipo de item  receita total  \\\n",
            "1  Protudo B                              1    Vestuário             80   \n",
            "\n",
            "   preço do item  \n",
            "1           80.0  \n"
          ]
        }
      ]
    }
  ]
}