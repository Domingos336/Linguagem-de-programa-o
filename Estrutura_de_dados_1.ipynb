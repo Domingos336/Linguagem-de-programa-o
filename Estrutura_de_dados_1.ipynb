{
  "nbformat": 4,
  "nbformat_minor": 0,
  "metadata": {
    "colab": {
      "provenance": [],
      "authorship_tag": "ABX9TyO7sBZSE0c48Gr6UnwEtNuK",
      "include_colab_link": true
    },
    "kernelspec": {
      "name": "python3",
      "display_name": "Python 3"
    },
    "language_info": {
      "name": "python"
    }
  },
  "cells": [
    {
      "cell_type": "markdown",
      "metadata": {
        "id": "view-in-github",
        "colab_type": "text"
      },
      "source": [
        "<a href=\"https://colab.research.google.com/github/Domingos336/Linguagem-de-programa-o/blob/main/Estrutura_de_dados_1.ipynb\" target=\"_parent\"><img src=\"https://colab.research.google.com/assets/colab-badge.svg\" alt=\"Open In Colab\"/></a>"
      ]
    },
    {
      "cell_type": "code",
      "execution_count": 10,
      "metadata": {
        "colab": {
          "base_uri": "https://localhost:8080/"
        },
        "id": "ecX5Iz0kyLhQ",
        "outputId": "9ac4fdce-0641-46a8-9db3-952075fabe64"
      },
      "outputs": [
        {
          "output_type": "stream",
          "name": "stdout",
          "text": [
            "Tamanho do texto = 72\n",
            "Esposa in texto = True\n",
            "Quantidade de a no texto = 9\n",
            "As 5 primeiras letras são: Eu qu\n"
          ]
        }
      ],
      "source": [
        "#Explorando a diversidade de linguagens de programação com Phyton \"Sequencias\"\n",
        "texto = \"Eu quero amar minha Esposa até que minha ultima gota de sangue se esgote\"\n",
        "\n",
        "print(f\"Tamanho do texto = {len(texto)}\")\n",
        "print(f\"Esposa in texto = {'Esposa' in texto}\")\n",
        "print(f\"Quantidade de a no texto = {texto.count('a')}\")\n",
        "print(f\"As 5 primeiras letras são: {texto[:5]}\")"
      ]
    },
    {
      "cell_type": "code",
      "source": [
        "texto[19]"
      ],
      "metadata": {
        "colab": {
          "base_uri": "https://localhost:8080/",
          "height": 35
        },
        "id": "ldkgCeAM1BWS",
        "outputId": "9323caa0-3352-455c-ef2e-cd777d519d8b"
      },
      "execution_count": 4,
      "outputs": [
        {
          "output_type": "execute_result",
          "data": {
            "text/plain": [
              "' '"
            ],
            "application/vnd.google.colaboratory.intrinsic+json": {
              "type": "string"
            }
          },
          "metadata": {},
          "execution_count": 4
        }
      ]
    },
    {
      "cell_type": "code",
      "source": [
        "texto = \"Explorando a diversidade de linguagens de programação com Phyton.\"\n",
        "\n",
        "print(f\"Tamanho do texto = {len(texto)}\")\n",
        "print(f\"Phyton in texto = {'Phyton' in texto}\")\n",
        "print(f\"Quantidade de e no texto = {texto.count('e')}\")\n",
        "print(f\"As 5 primeiras letras são: {texto[:5]}\")"
      ],
      "metadata": {
        "colab": {
          "base_uri": "https://localhost:8080/"
        },
        "id": "0kRs7WSw1IeN",
        "outputId": "68ccccdc-387b-4a9c-ba26-8cfe598881bd"
      },
      "execution_count": 5,
      "outputs": [
        {
          "output_type": "stream",
          "name": "stdout",
          "text": [
            "Tamanho do texto = 65\n",
            "Phyton in texto = True\n",
            "Quantidade de e no texto = 5\n",
            "As 5 primeiras letras são: Explo\n"
          ]
        }
      ]
    },
    {
      "cell_type": "code",
      "source": [
        "texto[19]"
      ],
      "metadata": {
        "colab": {
          "base_uri": "https://localhost:8080/",
          "height": 35
        },
        "id": "0vJnTZ491cBv",
        "outputId": "3a1f9aad-50c5-435c-d137-879e16dc0d77"
      },
      "execution_count": 6,
      "outputs": [
        {
          "output_type": "execute_result",
          "data": {
            "text/plain": [
              "'i'"
            ],
            "application/vnd.google.colaboratory.intrinsic+json": {
              "type": "string"
            }
          },
          "metadata": {},
          "execution_count": 6
        }
      ]
    },
    {
      "cell_type": "code",
      "source": [
        "#Mutabilidade\n",
        "cores = ['vermelho', 'azul', 'verde', 'mangenta', 'preto', 'rosa']\n",
        "for cor in cores:\n",
        "  print(f'Posição = {cores.index(cor)}, = {cor}')"
      ],
      "metadata": {
        "colab": {
          "base_uri": "https://localhost:8080/"
        },
        "id": "sjXvFKgM1yRa",
        "outputId": "09007ae6-47d2-4f57-9aa3-e81edd16dfbb"
      },
      "execution_count": 9,
      "outputs": [
        {
          "output_type": "stream",
          "name": "stdout",
          "text": [
            "Posição = 0, = vermelho\n",
            "Posição = 1, = azul\n",
            "Posição = 2, = verde\n",
            "Posição = 3, = mangenta\n",
            "Posição = 4, = preto\n",
            "Posição = 5, = rosa\n"
          ]
        }
      ]
    },
    {
      "cell_type": "code",
      "source": [
        "#List comprehensions, Map e Filter\n",
        "linguagens = [\"Python\", \"Java\", \"JavaScript\", \"C\", \"C++\", \"C#\", \"C++\", \"Swift\", \"Go\", \"Kotlin\"]\n",
        "print(\"Antes da listcomp = \", linguagens)\n",
        "linguagens = [item.lower() for item in linguagens]\n",
        "print(\"Depois da listcomp = \", linguagens)\n"
      ],
      "metadata": {
        "colab": {
          "base_uri": "https://localhost:8080/"
        },
        "id": "wQDp--PH2tdy",
        "outputId": "af836f01-28b9-49ab-d1d4-33f78456d1c4"
      },
      "execution_count": 11,
      "outputs": [
        {
          "output_type": "stream",
          "name": "stdout",
          "text": [
            "Antes da listcomp =  ['Python', 'Java', 'JavaScript', 'C', 'C++', 'C#', 'C++', 'Swift', 'Go', 'Kotlin']\n",
            "Depois da listcomp =  ['python', 'java', 'javascript', 'c', 'c++', 'c#', 'c++', 'swift', 'go', 'kotlin']\n"
          ]
        }
      ]
    },
    {
      "cell_type": "code",
      "source": [
        "#função map\"\n",
        "#aplica a uma função em toda a sequencia\n",
        "#map(funcao, sequencia)\n",
        "precos_em_dolares = [150, 50, 75, 120]\n",
        "taxa_de_cambio = 5.25\n",
        "precos_em_reais = list(map(lambda x: x* taxa_de_cambio, precos_em_dolares))\n",
        "print(precos_em_reais)\n"
      ],
      "metadata": {
        "colab": {
          "base_uri": "https://localhost:8080/"
        },
        "id": "YtzVXhmz58ha",
        "outputId": "30a9b2c1-ef59-4a29-b8d1-66172756a3d0"
      },
      "execution_count": 13,
      "outputs": [
        {
          "output_type": "stream",
          "name": "stdout",
          "text": [
            "[787.5, 262.5, 393.75, 630.0]\n"
          ]
        }
      ]
    },
    {
      "cell_type": "code",
      "source": [
        "#função filter!\n",
        "#filtra os elementos de uma sequência com base em uma função de teste (retorna true or false)\n",
        "#filter(funcao_teste, sequencia)\n",
        "numeros = [1, 2, 3, 4, 5, 6, 7, 8, 9, 10, 11, 12, 14, 16, 18, 20]\n",
        "numeros_pares = list(filter(lambda x: x % 2 == 0, numeros))\n",
        "print(numeros_pares)"
      ],
      "metadata": {
        "colab": {
          "base_uri": "https://localhost:8080/"
        },
        "id": "HKRS57oO6n7h",
        "outputId": "5fb6bb92-40ee-40fb-8c8d-9726043631db"
      },
      "execution_count": 16,
      "outputs": [
        {
          "output_type": "stream",
          "name": "stdout",
          "text": [
            "[2, 4, 6, 8, 10, 12, 14, 16, 18, 20]\n"
          ]
        }
      ]
    },
    {
      "cell_type": "code",
      "source": [
        "#Tuplas (Não pode ser subscrevida ou mudada\"IMUTAVEL)\n",
        "#A ORDEM IMPORTA--\n",
        "#EXEMPLOS DE MAIS TUPLAS E UTILIDADE\n",
        "vogais = ('a', 'e', 'i', 'o', 'u')\n",
        "print(f\"Tipo do objeto vogais = {type(vogais)}\")\n",
        "for p, x in enumerate(vogais):\n",
        "  print(f\"Posição = {p}, valor = {x}\")"
      ],
      "metadata": {
        "colab": {
          "base_uri": "https://localhost:8080/"
        },
        "id": "gPakDMFR73P7",
        "outputId": "f1942284-b1bf-4fbf-8c3e-6b91b248cd72"
      },
      "execution_count": 20,
      "outputs": [
        {
          "output_type": "stream",
          "name": "stdout",
          "text": [
            "Tipo do objeto vogais = <class 'tuple'>\n",
            "Posição = 0, valor = a\n",
            "Posição = 1, valor = e\n",
            "Posição = 2, valor = i\n",
            "Posição = 3, valor = o\n",
            "Posição = 4, valor = u\n"
          ]
        }
      ]
    },
    {
      "cell_type": "code",
      "source": [
        "#Tupla de convidados\n",
        "convidados = (\"Alice\", \"Bob\", \"Ellen\", \"Davi\", \"Domingos\", \"Carol\", \"Eve\")\n",
        "\n",
        "#Lista de confirmações\n",
        "confirmados = [\"Bob\", \"Davi\"]\n",
        "\n",
        "# Identificar quem ainda não confirmou\n",
        "nao_confirmados = [convidado for convidado in convidados if convidado not in confirmados]\n",
        "\n",
        "#Exibir os convidados que ainda não confirmaram\n",
        "print(\"Convidados que ainda não confirmaram:\")\n",
        "for pessoa in nao_confirmados:\n",
        "  print(pessoa)\n",
        "# Enviar lembretes aos que não confirmaram\n",
        "\n",
        "print(\"\\nEnviando lembretes para os convidados que ainda não confirmaram.\")"
      ],
      "metadata": {
        "colab": {
          "base_uri": "https://localhost:8080/"
        },
        "id": "towyOJd59S_K",
        "outputId": "da7d8065-1421-44cd-d66a-e13e61ef8157"
      },
      "execution_count": 26,
      "outputs": [
        {
          "output_type": "stream",
          "name": "stdout",
          "text": [
            "Convidados que ainda não confirmaram:\n",
            "Alice\n",
            "Ellen\n",
            "Domingos\n",
            "Carol\n",
            "Eve\n",
            "\n",
            "Enviando lembretes para os convidados que ainda não confirmaram.\n"
          ]
        }
      ]
    },
    {
      "cell_type": "code",
      "source": [],
      "metadata": {
        "id": "GN8wHL3kDSVa"
      },
      "execution_count": null,
      "outputs": []
    }
  ]
}