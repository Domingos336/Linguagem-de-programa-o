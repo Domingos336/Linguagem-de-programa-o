{
  "nbformat": 4,
  "nbformat_minor": 0,
  "metadata": {
    "colab": {
      "provenance": [],
      "authorship_tag": "ABX9TyM3NUQtvvUxePQkDtwceqIa",
      "include_colab_link": true
    },
    "kernelspec": {
      "name": "python3",
      "display_name": "Python 3"
    },
    "language_info": {
      "name": "python"
    }
  },
  "cells": [
    {
      "cell_type": "markdown",
      "metadata": {
        "id": "view-in-github",
        "colab_type": "text"
      },
      "source": [
        "<a href=\"https://colab.research.google.com/github/Domingos336/Linguagem-de-programa-o/blob/main/Classes_e_M%C3%A9todos_em_Phyton_v1_1.ipynb\" target=\"_parent\"><img src=\"https://colab.research.google.com/assets/colab-badge.svg\" alt=\"Open In Colab\"/></a>"
      ]
    },
    {
      "cell_type": "code",
      "execution_count": 12,
      "metadata": {
        "colab": {
          "base_uri": "https://localhost:8080/"
        },
        "id": "WM0qMBfK1rAB",
        "outputId": "562ace04-0f6d-4288-9878-87aa2b9ca4f5"
      },
      "outputs": [
        {
          "output_type": "stream",
          "name": "stdout",
          "text": [
            "Status do Carro:\n",
            "Marca: Toyota, Modelo: Corolla, Ano: 2022, Velocidade: 170 km/h\n",
            "\n",
            "Status do Carro:\n",
            "Marca: Taycan, Modelo: Porshe, Ano: 2020, Velocidade: 120 km/h\n",
            "\n",
            "Status da Bicicleta:\n",
            "Marca: trek, Modelo: Mountain Bike, Ano: 2021, Tipo: MTB, Velocidade: 20 km/h\n"
          ]
        }
      ],
      "source": [
        "class Veiculo:\n",
        "  def __init__(self, marca, modelo, ano):\n",
        "      self.marca = marca\n",
        "      self.modelo = modelo\n",
        "      self.ano = ano\n",
        "      self.velocidade = 0\n",
        "\n",
        "  def acelerar(self, incremento):\n",
        "    self.velocidade += incremento\n",
        "\n",
        "  def frear(self, decremento):\n",
        "    self.velocidade -= decremento\n",
        "\n",
        "  def status(self):\n",
        "    return f\"Marca: {self.marca}, Modelo: {self.modelo}, Ano: {self.ano}, Velocidade: {self.velocidade} km/h\"\n",
        "\n",
        "class Carro(Veiculo):\n",
        "  def __init__(self, marca, modelo, ano, potencia):\n",
        "    super().__init__(marca, modelo, ano)\n",
        "    self.potencia = potencia\n",
        "\n",
        "    def acelerar(self, incremento):\n",
        "      #Carros podem acelerar mais rápido.\n",
        "      self.velocidade += incremento + self.potencia\n",
        "\n",
        "class Bicicleta(Veiculo):\n",
        "    def __init__(self, marca, modelo, ano, tipo):\n",
        "      super(). __init__(marca, modelo, ano)\n",
        "      self.tipo = tipo\n",
        "\n",
        "    def status(self):\n",
        "      return f\"Marca: {self.marca}, Modelo: {self.modelo}, Ano: {self.ano}, Tipo: {self.tipo}, Velocidade: {self.velocidade} km/h\"\n",
        "\n",
        "# Criando objetos\n",
        "carro1 = Carro(\"Toyota\", \"Corolla\", 2022, 170)\n",
        "\n",
        "carro2 = Carro(\"Taycan\", \"Porshe\", 2020, 300)\n",
        "\n",
        "bicicleta1 = Bicicleta(\"trek\", \"Mountain Bike\", 2021, \"MTB\")\n",
        "\n",
        "#Acelerando e verificando o status\n",
        "carro1.acelerar(170)\n",
        "carro2.acelerar(120)\n",
        "bicicleta1.acelerar(20)\n",
        "\n",
        "#Exibindo o status dos veículos\n",
        "print(\"Status do Carro:\")\n",
        "print(carro1.status())\n",
        "\n",
        "print(\"\\nStatus do Carro:\")\n",
        "print(carro2.status())\n",
        "\n",
        "print(\"\\nStatus da Bicicleta:\")\n",
        "print(bicicleta1.status())"
      ]
    }
  ]
}